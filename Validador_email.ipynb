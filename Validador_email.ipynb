{
  "cells": [
    {
      "cell_type": "code",
      "execution_count": null,
      "id": "d9f46a25",
      "metadata": {
        "id": "d9f46a25"
      },
      "outputs": [],
      "source": [
        "import pandas as pd\n",
        "from validate_email import validate_email"
      ]
    },
    {
      "cell_type": "code",
      "execution_count": null,
      "id": "11079511",
      "metadata": {
        "id": "11079511"
      },
      "outputs": [],
      "source": [
        "datos=pd.read_csv(\"prueba_emails.csv\")"
      ]
    },
    {
      "cell_type": "code",
      "execution_count": null,
      "id": "cb18976c",
      "metadata": {
        "id": "cb18976c",
        "outputId": "fe1c7d03-936d-43cd-9fc4-d360c6680936"
      },
      "outputs": [
        {
          "name": "stdout",
          "output_type": "stream",
          "text": [
            "9\n"
          ]
        }
      ],
      "source": [
        "print(datos[\"email\"].count())"
      ]
    },
    {
      "cell_type": "code",
      "execution_count": null,
      "id": "d3b85de0",
      "metadata": {
        "id": "d3b85de0",
        "outputId": "38794b9a-d4f3-4ae3-8e5d-0b567a39d683"
      },
      "outputs": [
        {
          "name": "stdout",
          "output_type": "stream",
          "text": [
            "0       quilimartinez@hotmail.com\n",
            "1                asdfga@gmail.com\n",
            "2             quili@bancor.com.ar\n",
            "3       quilimartinez@hotmail:com\n",
            "4    quilimartinez@hotmail.com.ar\n",
            "5                    asdfga@gmail\n",
            "6             asdfga@gmail.com.ar\n",
            "7                quili@bancor.com\n",
            "8             quilimartinezbancor\n",
            "Name: email, dtype: object\n"
          ]
        }
      ],
      "source": [
        "print(datos[\"email\"])\n"
      ]
    },
    {
      "cell_type": "code",
      "execution_count": null,
      "id": "d3160ba9",
      "metadata": {
        "id": "d3160ba9"
      },
      "outputs": [],
      "source": [
        "datos[\"verificar\"]=datos[\"email\"].apply(lambda x:validate_email(x))\n",
        "datos[\"error\"]=\"\"\n",
        "datos[\"ok\"]=\"\"\n",
        "\n",
        "datos[\"error\"].mask(datos[\"verificar\"]==False, datos.email, inplace=True)\n",
        "datos[\"ok\"].mask(datos[\"verificar\"]==True, datos.email, inplace=True)\n",
        "\n",
        "datos[\"error\"]=datos[\"error\"].sort_values(ascending=False).values\n",
        "datos[\"ok\"]=datos[\"ok\"].sort_values(ascending=False).values\n",
        "\n",
        "#datos.to_csv(\"correosYTvid2.csv\")"
      ]
    },
    {
      "cell_type": "code",
      "execution_count": null,
      "id": "3a1c24c1",
      "metadata": {
        "id": "3a1c24c1",
        "outputId": "416f7917-1555-4d8f-9fcc-ec5927a03634"
      },
      "outputs": [
        {
          "name": "stdout",
          "output_type": "stream",
          "text": [
            "                          email  verificar                      error  \\\n",
            "0     quilimartinez@hotmail.com       True        quilimartinezbancor   \n",
            "1              asdfga@gmail.com       True  quilimartinez@hotmail:com   \n",
            "2           quili@bancor.com.ar       True                              \n",
            "3     quilimartinez@hotmail:com      False                              \n",
            "4  quilimartinez@hotmail.com.ar       True                              \n",
            "5                  asdfga@gmail       True                              \n",
            "6           asdfga@gmail.com.ar       True                              \n",
            "7              quili@bancor.com       True                              \n",
            "8           quilimartinezbancor      False                              \n",
            "\n",
            "                             ok  \n",
            "0  quilimartinez@hotmail.com.ar  \n",
            "1     quilimartinez@hotmail.com  \n",
            "2           quili@bancor.com.ar  \n",
            "3              quili@bancor.com  \n",
            "4           asdfga@gmail.com.ar  \n",
            "5              asdfga@gmail.com  \n",
            "6                  asdfga@gmail  \n",
            "7                                \n",
            "8                                \n"
          ]
        }
      ],
      "source": [
        "print(datos)"
      ]
    },
    {
      "cell_type": "code",
      "execution_count": null,
      "id": "13593176",
      "metadata": {
        "id": "13593176",
        "outputId": "1862aa3d-4421-4907-9b0d-e97520a5d0bf"
      },
      "outputs": [
        {
          "ename": "ModuleNotFoundError",
          "evalue": "No module named 'DNS'",
          "output_type": "error",
          "traceback": [
            "\u001b[1;31m---------------------------------------------------------------------------\u001b[0m",
            "\u001b[1;31mModuleNotFoundError\u001b[0m                       Traceback (most recent call last)",
            "\u001b[1;32m<ipython-input-11-0a64da52e00b>\u001b[0m in \u001b[0;36m<module>\u001b[1;34m\u001b[0m\n\u001b[0;32m      1\u001b[0m \u001b[1;31m#import email_validator\u001b[0m\u001b[1;33m\u001b[0m\u001b[1;33m\u001b[0m\u001b[1;33m\u001b[0m\u001b[0m\n\u001b[0;32m      2\u001b[0m \u001b[1;33m\u001b[0m\u001b[0m\n\u001b[1;32m----> 3\u001b[1;33m \u001b[1;32mfrom\u001b[0m \u001b[0memail_validator\u001b[0m \u001b[1;32mimport\u001b[0m \u001b[0mvalidate_email\u001b[0m\u001b[1;33m,\u001b[0m \u001b[0mEmailNotValidError\u001b[0m\u001b[1;33m\u001b[0m\u001b[1;33m\u001b[0m\u001b[0m\n\u001b[0m\u001b[0;32m      4\u001b[0m \u001b[1;33m\u001b[0m\u001b[0m\n\u001b[0;32m      5\u001b[0m \u001b[0memail\u001b[0m \u001b[1;33m=\u001b[0m \u001b[1;34m\"my+address@mydomain.tld\"\u001b[0m\u001b[1;33m\u001b[0m\u001b[1;33m\u001b[0m\u001b[0m\n",
            "\u001b[1;32mC:\\ProgramData\\Anaconda3\\lib\\site-packages\\email_validator\\__init__.py\u001b[0m in \u001b[0;36m<module>\u001b[1;34m\u001b[0m\n\u001b[0;32m      4\u001b[0m \u001b[1;32mimport\u001b[0m \u001b[0mre\u001b[0m\u001b[1;33m\u001b[0m\u001b[1;33m\u001b[0m\u001b[0m\n\u001b[0;32m      5\u001b[0m \u001b[1;32mimport\u001b[0m \u001b[0municodedata\u001b[0m\u001b[1;33m\u001b[0m\u001b[1;33m\u001b[0m\u001b[0m\n\u001b[1;32m----> 6\u001b[1;33m \u001b[1;32mimport\u001b[0m \u001b[0mdns\u001b[0m\u001b[1;33m.\u001b[0m\u001b[0mresolver\u001b[0m\u001b[1;33m\u001b[0m\u001b[1;33m\u001b[0m\u001b[0m\n\u001b[0m\u001b[0;32m      7\u001b[0m \u001b[1;32mimport\u001b[0m \u001b[0mdns\u001b[0m\u001b[1;33m.\u001b[0m\u001b[0mexception\u001b[0m\u001b[1;33m\u001b[0m\u001b[1;33m\u001b[0m\u001b[0m\n\u001b[0;32m      8\u001b[0m \u001b[1;32mimport\u001b[0m \u001b[0midna\u001b[0m  \u001b[1;31m# implements IDNA 2008; Python's codec is only IDNA 2003\u001b[0m\u001b[1;33m\u001b[0m\u001b[1;33m\u001b[0m\u001b[0m\n",
            "\u001b[1;32mC:\\ProgramData\\Anaconda3\\lib\\site-packages\\dns\\__init__.py\u001b[0m in \u001b[0;36m<module>\u001b[1;34m\u001b[0m\n\u001b[0;32m     25\u001b[0m \u001b[1;32mfrom\u001b[0m \u001b[1;33m.\u001b[0m \u001b[1;32mimport\u001b[0m \u001b[0mStatus\u001b[0m\u001b[1;33m\u001b[0m\u001b[1;33m\u001b[0m\u001b[0m\n\u001b[0;32m     26\u001b[0m \u001b[1;32mfrom\u001b[0m \u001b[1;33m.\u001b[0m \u001b[1;32mimport\u001b[0m \u001b[0mClass\u001b[0m\u001b[1;33m\u001b[0m\u001b[1;33m\u001b[0m\u001b[0m\n\u001b[1;32m---> 27\u001b[1;33m \u001b[1;32mfrom\u001b[0m \u001b[1;33m.\u001b[0m\u001b[0mBase\u001b[0m \u001b[1;32mimport\u001b[0m \u001b[0mDnsRequest\u001b[0m\u001b[1;33m\u001b[0m\u001b[1;33m\u001b[0m\u001b[0m\n\u001b[0m\u001b[0;32m     28\u001b[0m \u001b[1;32mfrom\u001b[0m \u001b[1;33m.\u001b[0m\u001b[0mBase\u001b[0m \u001b[1;32mimport\u001b[0m \u001b[0mDNSError\u001b[0m\u001b[1;33m\u001b[0m\u001b[1;33m\u001b[0m\u001b[0m\n\u001b[0;32m     29\u001b[0m \u001b[1;32mfrom\u001b[0m \u001b[1;33m.\u001b[0m\u001b[0mLib\u001b[0m \u001b[1;32mimport\u001b[0m \u001b[0mDnsResult\u001b[0m\u001b[1;33m\u001b[0m\u001b[1;33m\u001b[0m\u001b[0m\n",
            "\u001b[1;32mC:\\ProgramData\\Anaconda3\\lib\\site-packages\\dns\\Base.py\u001b[0m in \u001b[0;36m<module>\u001b[1;34m\u001b[0m\n\u001b[0;32m     43\u001b[0m \u001b[1;33m\u001b[0m\u001b[0m\n\u001b[0;32m     44\u001b[0m \u001b[1;31m# Lib uses some of the above exception classes, so import after defining.\u001b[0m\u001b[1;33m\u001b[0m\u001b[1;33m\u001b[0m\u001b[1;33m\u001b[0m\u001b[0m\n\u001b[1;32m---> 45\u001b[1;33m \u001b[1;32mfrom\u001b[0m \u001b[1;33m.\u001b[0m \u001b[1;32mimport\u001b[0m \u001b[0mLib\u001b[0m\u001b[1;33m\u001b[0m\u001b[1;33m\u001b[0m\u001b[0m\n\u001b[0m\u001b[0;32m     46\u001b[0m \u001b[1;33m\u001b[0m\u001b[0m\n\u001b[0;32m     47\u001b[0m defaults= { 'protocol':'udp', 'port':53, 'opcode':Opcode.QUERY,\n",
            "\u001b[1;32mC:\\ProgramData\\Anaconda3\\lib\\site-packages\\dns\\Lib.py\u001b[0m in \u001b[0;36m<module>\u001b[1;34m\u001b[0m\n\u001b[0;32m     33\u001b[0m \u001b[1;32mfrom\u001b[0m \u001b[1;33m.\u001b[0m \u001b[1;32mimport\u001b[0m \u001b[0mOpcode\u001b[0m\u001b[1;33m\u001b[0m\u001b[1;33m\u001b[0m\u001b[0m\n\u001b[0;32m     34\u001b[0m \u001b[1;32mfrom\u001b[0m \u001b[1;33m.\u001b[0m \u001b[1;32mimport\u001b[0m \u001b[0mStatus\u001b[0m\u001b[1;33m\u001b[0m\u001b[1;33m\u001b[0m\u001b[0m\n\u001b[1;32m---> 35\u001b[1;33m \u001b[1;32mimport\u001b[0m \u001b[0mDNS\u001b[0m\u001b[1;33m\u001b[0m\u001b[1;33m\u001b[0m\u001b[0m\n\u001b[0m\u001b[0;32m     36\u001b[0m \u001b[1;33m\u001b[0m\u001b[0m\n\u001b[0;32m     37\u001b[0m \u001b[1;32mfrom\u001b[0m \u001b[1;33m.\u001b[0m\u001b[0mBase\u001b[0m \u001b[1;32mimport\u001b[0m \u001b[0mDNSError\u001b[0m\u001b[1;33m\u001b[0m\u001b[1;33m\u001b[0m\u001b[0m\n",
            "\u001b[1;31mModuleNotFoundError\u001b[0m: No module named 'DNS'"
          ]
        }
      ],
      "source": [
        "#import email_validator\n",
        "\n",
        "from email_validator import validate_email, EmailNotValidError\n",
        "\n",
        "email = \"my+address@mydomain.tld\"\n",
        "\n",
        "try:\n",
        "  # Validate.\n",
        "  valid = validate_email(email)\n",
        "\n",
        "  # Update with the normalized form.\n",
        "  email = valid.email\n",
        "except EmailNotValidError as e:\n",
        "  # email is not valid, exception message is human-readable\n",
        "  print(str(e))"
      ]
    },
    {
      "cell_type": "code",
      "execution_count": null,
      "id": "935de95c",
      "metadata": {
        "id": "935de95c"
      },
      "outputs": [],
      "source": [
        "valid = validate_email(\"chris@hotmail.com.ar\")\n",
        "email = valid.ascii_email\n",
        "print(email)\n",
        "# prints: me@domain.com"
      ]
    },
    {
      "cell_type": "code",
      "execution_count": null,
      "id": "1b014b91",
      "metadata": {
        "id": "1b014b91"
      },
      "outputs": [],
      "source": [
        "from validate_email import validate_email\n",
        "is_valid = validate_email('example@example.com')"
      ]
    },
    {
      "cell_type": "code",
      "execution_count": null,
      "id": "31d99097",
      "metadata": {
        "id": "31d99097"
      },
      "outputs": [],
      "source": [
        "addressToVerify ='info@scottbrady91.com'\n",
        "match = re.match('^[_a-z0-9-]+(\\.[_a-z0-9-]+)*@[a-z0-9-]+(\\.[a-z0-9-]+)*(\\.[a-z]{2,4})$', addressToVerify)\n",
        "\n",
        "if match == None:\n",
        "\tprint('Bad Syntax')\n",
        "\traise ValueError('Bad Syntax')"
      ]
    },
    {
      "cell_type": "code",
      "execution_count": null,
      "id": "3ac240c0",
      "metadata": {
        "id": "3ac240c0",
        "outputId": "254f9610-b200-40de-e8ad-c9be330828e1"
      },
      "outputs": [
        {
          "ename": "ModuleNotFoundError",
          "evalue": "No module named 'py3DNS'",
          "output_type": "error",
          "traceback": [
            "\u001b[1;31m---------------------------------------------------------------------------\u001b[0m",
            "\u001b[1;31mModuleNotFoundError\u001b[0m                       Traceback (most recent call last)",
            "\u001b[1;32m<ipython-input-6-12d7a49942d5>\u001b[0m in \u001b[0;36m<module>\u001b[1;34m\u001b[0m\n\u001b[1;32m----> 1\u001b[1;33m \u001b[1;32mimport\u001b[0m \u001b[0mpy3DNS\u001b[0m \u001b[1;32mas\u001b[0m \u001b[0msd\u001b[0m\u001b[1;33m\u001b[0m\u001b[1;33m\u001b[0m\u001b[0m\n\u001b[0m",
            "\u001b[1;31mModuleNotFoundError\u001b[0m: No module named 'py3DNS'"
          ]
        }
      ],
      "source": [
        "import py3DNS as sd\n"
      ]
    },
    {
      "cell_type": "code",
      "execution_count": null,
      "id": "2d93b315",
      "metadata": {
        "id": "2d93b315"
      },
      "outputs": [],
      "source": [
        "pip install py3dns validate_email"
      ]
    },
    {
      "cell_type": "code",
      "execution_count": null,
      "id": "0c63cb48",
      "metadata": {
        "id": "0c63cb48"
      },
      "outputs": [],
      "source": [
        "import pandas as pd\n",
        "from validate_email import validate_email\n"
      ]
    },
    {
      "cell_type": "code",
      "execution_count": null,
      "id": "d3bbb160",
      "metadata": {
        "id": "d3bbb160"
      },
      "outputs": [],
      "source": [
        "import py3DNS as dns"
      ]
    },
    {
      "cell_type": "code",
      "execution_count": null,
      "id": "f9430e94",
      "metadata": {
        "id": "f9430e94"
      },
      "outputs": [],
      "source": [
        "from validate_email import validate_email\n",
        "is_valid = validate_email('example@example.com')"
      ]
    },
    {
      "cell_type": "code",
      "execution_count": null,
      "id": "3d64e7cb",
      "metadata": {
        "id": "3d64e7cb"
      },
      "outputs": [],
      "source": [
        "from validate_email import validate_email\n",
        "is_valid = validate_email('example@example.com',check_mx=True)"
      ]
    },
    {
      "cell_type": "code",
      "execution_count": null,
      "id": "333a1dec",
      "metadata": {
        "id": "333a1dec",
        "outputId": "0325a474-6e29-4dde-8aae-186aecea3209"
      },
      "outputs": [
        {
          "name": "stdout",
          "output_type": "stream",
          "text": [
            "Collecting validate-email-address\n",
            "  Downloading validate-email-address-1.tar.gz (4.9 kB)\n",
            "Building wheels for collected packages: validate-email-address\n",
            "  Building wheel for validate-email-address (setup.py): started\n",
            "  Building wheel for validate-email-address (setup.py): finished with status 'done'\n",
            "  Created wheel for validate-email-address: filename=validate_email_address-1-py3-none-any.whl size=5735 sha256=71e4ab2fb1e2e606f93807eef99bce30cdef1a25276260cf223c3e573a5e6a56\n",
            "  Stored in directory: c:\\users\\u160225\\appdata\\local\\pip\\cache\\wheels\\55\\14\\8a\\f0194eb6209f7cbcefff10203b2c2a5f47bb12575f77593b55\n",
            "Successfully built validate-email-address\n",
            "Installing collected packages: validate-email-address\n",
            "Successfully installed validate-email-address-1\n",
            "Note: you may need to restart the kernel to use updated packages.\n"
          ]
        }
      ],
      "source": [
        "pip install validate-email-address"
      ]
    },
    {
      "cell_type": "code",
      "execution_count": null,
      "id": "1b999c36",
      "metadata": {
        "id": "1b999c36",
        "outputId": "0314e9ef-277e-4048-f595-ca33aed167dc"
      },
      "outputs": [
        {
          "name": "stdout",
          "output_type": "stream",
          "text": [
            "True\n"
          ]
        }
      ],
      "source": [
        "from validate_email_address import validate_email\n",
        "isvalid=validate_email('alixaprodev@hotmail.bancor.com.ar')\n",
        "print(isvalid)\n"
      ]
    },
    {
      "cell_type": "code",
      "execution_count": null,
      "id": "6fb04461",
      "metadata": {
        "id": "6fb04461"
      },
      "outputs": [],
      "source": [
        "import os\n"
      ]
    },
    {
      "cell_type": "code",
      "execution_count": null,
      "id": "1aee6b79",
      "metadata": {
        "id": "1aee6b79",
        "outputId": "5cc23a26-d465-4e89-8370-d8b049e86c36"
      },
      "outputs": [
        {
          "name": "stdout",
          "output_type": "stream",
          "text": [
            "google.com is down!\n"
          ]
        }
      ],
      "source": [
        "hostname = \"google.com\" #example\n",
        "response = os.system(\"ping -c 1 \" + hostname)\n",
        "\n",
        "#and then check the response...\n",
        "if response == 0:\n",
        "  print (hostname, 'is up!')\n",
        "else:\n",
        "  print (hostname, 'is down!')"
      ]
    },
    {
      "cell_type": "code",
      "execution_count": null,
      "id": "572a9652",
      "metadata": {
        "id": "572a9652",
        "outputId": "f7a6223e-c3f9-48f1-ff09-c5baa3e3abe1"
      },
      "outputs": [
        {
          "ename": "ModuleNotFoundError",
          "evalue": "No module named 'pyping'",
          "output_type": "error",
          "traceback": [
            "\u001b[1;31m---------------------------------------------------------------------------\u001b[0m",
            "\u001b[1;31mModuleNotFoundError\u001b[0m                       Traceback (most recent call last)",
            "\u001b[1;32m<ipython-input-17-669740f0adcb>\u001b[0m in \u001b[0;36m<module>\u001b[1;34m\u001b[0m\n\u001b[1;32m----> 1\u001b[1;33m \u001b[1;32mimport\u001b[0m \u001b[0mpyping\u001b[0m\u001b[1;33m\u001b[0m\u001b[1;33m\u001b[0m\u001b[0m\n\u001b[0m\u001b[0;32m      2\u001b[0m \u001b[1;33m\u001b[0m\u001b[0m\n\u001b[0;32m      3\u001b[0m \u001b[0mr\u001b[0m \u001b[1;33m=\u001b[0m \u001b[0mpyping\u001b[0m\u001b[1;33m.\u001b[0m\u001b[0mping\u001b[0m\u001b[1;33m(\u001b[0m\u001b[1;34m'google.com'\u001b[0m\u001b[1;33m)\u001b[0m\u001b[1;33m\u001b[0m\u001b[1;33m\u001b[0m\u001b[0m\n\u001b[0;32m      4\u001b[0m \u001b[1;33m\u001b[0m\u001b[0m\n\u001b[0;32m      5\u001b[0m \u001b[1;32mif\u001b[0m \u001b[0mr\u001b[0m\u001b[1;33m.\u001b[0m\u001b[0mret_code\u001b[0m \u001b[1;33m==\u001b[0m \u001b[1;36m0\u001b[0m\u001b[1;33m:\u001b[0m\u001b[1;33m\u001b[0m\u001b[1;33m\u001b[0m\u001b[0m\n",
            "\u001b[1;31mModuleNotFoundError\u001b[0m: No module named 'pyping'"
          ]
        }
      ],
      "source": [
        "import pyping\n",
        "\n",
        "r = pyping.ping('google.com')\n",
        "\n",
        "if r.ret_code == 0:\n",
        "    print(\"Success\")\n",
        "else:\n",
        "    print(\"Failed with {}\".format(r.ret_code))"
      ]
    },
    {
      "cell_type": "code",
      "execution_count": null,
      "id": "539d5251",
      "metadata": {
        "id": "539d5251",
        "outputId": "3e69f075-e10a-46c2-94a0-9239cbc3e2f0"
      },
      "outputs": [
        {
          "ename": "ModuleNotFoundError",
          "evalue": "No module named 'pyping'",
          "output_type": "error",
          "traceback": [
            "\u001b[1;31m---------------------------------------------------------------------------\u001b[0m",
            "\u001b[1;31mModuleNotFoundError\u001b[0m                       Traceback (most recent call last)",
            "\u001b[1;32m<ipython-input-16-2ceb5f201512>\u001b[0m in \u001b[0;36m<module>\u001b[1;34m\u001b[0m\n\u001b[1;32m----> 1\u001b[1;33m \u001b[1;32mimport\u001b[0m \u001b[0mpyping\u001b[0m\u001b[1;33m\u001b[0m\u001b[1;33m\u001b[0m\u001b[0m\n\u001b[0m",
            "\u001b[1;31mModuleNotFoundError\u001b[0m: No module named 'pyping'"
          ]
        }
      ],
      "source": [
        "import pyping"
      ]
    },
    {
      "cell_type": "code",
      "execution_count": null,
      "id": "1f7a802d",
      "metadata": {
        "id": "1f7a802d"
      },
      "outputs": [],
      "source": []
    }
  ],
  "metadata": {
    "kernelspec": {
      "display_name": "Python 3",
      "language": "python",
      "name": "python3"
    },
    "language_info": {
      "codemirror_mode": {
        "name": "ipython",
        "version": 3
      },
      "file_extension": ".py",
      "mimetype": "text/x-python",
      "name": "python",
      "nbconvert_exporter": "python",
      "pygments_lexer": "ipython3",
      "version": "3.8.8"
    },
    "colab": {
      "provenance": [],
      "toc_visible": true
    }
  },
  "nbformat": 4,
  "nbformat_minor": 5
}